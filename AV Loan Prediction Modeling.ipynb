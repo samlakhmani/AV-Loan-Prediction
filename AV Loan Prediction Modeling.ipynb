{
 "cells": [
  {
   "cell_type": "code",
   "execution_count": null,
   "metadata": {},
   "outputs": [],
   "source": [
    "import pandas as pd\n",
    "import numpy as np\n",
    "\n",
    "import matplotlib as mpl\n",
    "import matplotlib.pyplot as plt\n",
    "import seaborn as sns"
   ]
  },
  {
   "cell_type": "code",
   "execution_count": null,
   "metadata": {},
   "outputs": [],
   "source": [
    "train = pd.read_csv(\"Data/train.csv\")\n",
    "test = pd.read_csv(\"Data/test.csv\")"
   ]
  },
  {
   "cell_type": "markdown",
   "metadata": {},
   "source": [
    "I am using excel for other insightful analysis"
   ]
  },
  {
   "cell_type": "markdown",
   "metadata": {},
   "source": [
    "### Treatment"
   ]
  },
  {
   "cell_type": "markdown",
   "metadata": {},
   "source": [
    "Treating Initial Data : "
   ]
  },
  {
   "cell_type": "code",
   "execution_count": null,
   "metadata": {},
   "outputs": [],
   "source": [
    "train.isnull().sum()"
   ]
  },
  {
   "cell_type": "markdown",
   "metadata": {},
   "source": [
    "Changing Label of the Target Column"
   ]
  },
  {
   "cell_type": "code",
   "execution_count": null,
   "metadata": {},
   "outputs": [],
   "source": [
    "train['Loan_Status']=train['Loan_Status'].apply( lambda x : 1 if x=='Y' else 0)"
   ]
  },
  {
   "cell_type": "markdown",
   "metadata": {},
   "source": [
    "Treating Missing Data "
   ]
  },
  {
   "cell_type": "code",
   "execution_count": null,
   "metadata": {},
   "outputs": [],
   "source": [
    "train['Dependents'].fillna('0',inplace=True)"
   ]
  },
  {
   "cell_type": "code",
   "execution_count": null,
   "metadata": {},
   "outputs": [],
   "source": [
    "train['Gender'].fillna('Unknown',inplace=True)\n",
    "train['Married'].fillna('Yes',inplace=True)\n",
    "train['Self_Employed'].fillna('Unknown',inplace=True)\n",
    "train['Credit_History'].fillna(-1,inplace=True)"
   ]
  },
  {
   "cell_type": "code",
   "execution_count": null,
   "metadata": {},
   "outputs": [],
   "source": [
    "train['Loan_Amount_Term'].fillna(train['Loan_Amount_Term'].median(skipna=True),inplace=True)\n",
    "train['LoanAmount'].fillna(train['LoanAmount'].median(skipna=True),inplace=True)"
   ]
  },
  {
   "cell_type": "markdown",
   "metadata": {},
   "source": [
    "### Feature Engineering "
   ]
  },
  {
   "cell_type": "markdown",
   "metadata": {},
   "source": [
    "If Co-Applicant Earns. Both Members Earn"
   ]
  },
  {
   "cell_type": "code",
   "execution_count": null,
   "metadata": {},
   "outputs": [],
   "source": [
    "train['BothEarn'] = (train.CoapplicantIncome!=0).astype('int') \n",
    "train['BothEarn'] = train['BothEarn'].map({1:'Yes',0:'No'})"
   ]
  },
  {
   "cell_type": "markdown",
   "metadata": {},
   "source": [
    "Total Family Income"
   ]
  },
  {
   "cell_type": "code",
   "execution_count": null,
   "metadata": {},
   "outputs": [],
   "source": [
    "train['TotalIncome'] = train['ApplicantIncome']+train['CoapplicantIncome']"
   ]
  },
  {
   "cell_type": "markdown",
   "metadata": {},
   "source": [
    "Family Size"
   ]
  },
  {
   "cell_type": "code",
   "execution_count": null,
   "metadata": {},
   "outputs": [],
   "source": [
    "c=0 #counter\n",
    "fam = train['Dependents'].copy()\n",
    "\n",
    "for i in train['BothEarn']:\n",
    "    if train.loc[c,'Married']=='Yes':\n",
    "        fam.loc[c] = '2+'+fam.loc[c]\n",
    "    else :\n",
    "        fam.loc[c] = '1+'+fam.loc[c]\n",
    "    c+=1\n",
    "\n",
    "# fam = \"2+\"+train['Dependents']\n",
    "train['FamilySize'] = fam.apply(lambda x: eval(x[:-1]) if x[-1]=='+' else eval(x))"
   ]
  },
  {
   "cell_type": "markdown",
   "metadata": {},
   "source": [
    "Income per person in family"
   ]
  },
  {
   "cell_type": "code",
   "execution_count": null,
   "metadata": {},
   "outputs": [],
   "source": [
    "train['IncomePerMember'] = train['TotalIncome']/train['FamilySize']"
   ]
  },
  {
   "cell_type": "markdown",
   "metadata": {},
   "source": [
    "Income Strength Binning"
   ]
  },
  {
   "cell_type": "code",
   "execution_count": null,
   "metadata": {},
   "outputs": [],
   "source": [
    "bins = np.linspace(train['IncomePerMember'].min(),train['IncomePerMember'].max(),25,True)\n",
    "bins = np.append(bins[0:4],train['IncomePerMember'].max())\n",
    "\n",
    "train['IncomeStrength'] = pd.cut(train['IncomePerMember'],bins=bins,labels=['low','Med','High','V. High'],include_lowest=True)"
   ]
  },
  {
   "cell_type": "code",
   "execution_count": null,
   "metadata": {},
   "outputs": [],
   "source": [
    "plt.figure(figsize=(7,5))\n",
    "plot_data = pd.pivot_table(data=train,index='IncomeStrength',values='Loan_Status')\n",
    "sns.barplot(plot_data.index,'Loan_Status',data=plot_data)\n",
    "plt.show()"
   ]
  },
  {
   "cell_type": "markdown",
   "metadata": {},
   "source": [
    "Monthly Installment (without interest - Just to estimate)"
   ]
  },
  {
   "cell_type": "code",
   "execution_count": null,
   "metadata": {},
   "outputs": [],
   "source": [
    "train['MonthlyInstal'] = train['LoanAmount']/train['Loan_Amount_Term']"
   ]
  },
  {
   "cell_type": "markdown",
   "metadata": {},
   "source": [
    "## EDA"
   ]
  },
  {
   "cell_type": "markdown",
   "metadata": {},
   "source": [
    "### Study"
   ]
  },
  {
   "cell_type": "code",
   "execution_count": null,
   "metadata": {},
   "outputs": [],
   "source": [
    "# a = pd.pivot_table(train,train.columns,'Loan_Status')\n",
    "# a"
   ]
  },
  {
   "cell_type": "code",
   "execution_count": null,
   "metadata": {},
   "outputs": [],
   "source": [
    "# b = pd.pivot_table(train,train.columns,'Loan_Status',aggfunc=['median'])\n",
    "# b"
   ]
  },
  {
   "cell_type": "code",
   "execution_count": null,
   "metadata": {},
   "outputs": [],
   "source": [
    "# b = pd.pivot_table(train,train.columns,'Loan_Status',aggfunc=['min'])\n",
    "# b"
   ]
  },
  {
   "cell_type": "code",
   "execution_count": null,
   "metadata": {},
   "outputs": [],
   "source": [
    "# b = pd.pivot_table(train,train.columns,'Loan_Status',aggfunc=['max'])\n",
    "# b"
   ]
  },
  {
   "cell_type": "code",
   "execution_count": null,
   "metadata": {},
   "outputs": [],
   "source": [
    "# fig, axs = plt.subplots(8,2,figsize=(30,100))\n",
    "# fig.subplots_adjust(hspace = .5, wspace=.5)\n",
    "# axs = axs.ravel()\n",
    "# counter=0\n",
    "\n",
    "# for i in ['ApplicantIncome','CoapplicantIncome', 'FamilySize',\n",
    "# 'IncomePerMember', 'LoanAmount', 'Loan_Amount_Term', 'MonthlyInstal','TotalIncome']:\n",
    "\n",
    "#     bins = ([train[i].min(),train[i].quantile(.10),train[i].quantile(.3),train[i].quantile(.6),train[i].quantile(.9),train[i].max()])\n",
    "#     bins = [round(i) for i in bins]\n",
    "#     if bins[0]==0 : bins.insert(1,1)  #no matter the distribution, if it begins with 0, make a 1\n",
    "#     bins = list(set(bins))\n",
    "#     bins.sort()\n",
    "    \n",
    "#     data_pivot = train[['Loan_Status']]\n",
    "#     data_pivot[i] = pd.cut(train[i],bins=bins,include_lowest=True)\n",
    "#     data_plot = pd.pivot_table(data_pivot,'Loan_Status',i)\n",
    "\n",
    "#     # print(data_pivot[i].value_counts()) #debugging\n",
    "#     # print(data_plot) #debugging\n",
    "\n",
    "#     axs[counter].set_title(i)\n",
    "#     sns.barplot(data_plot.index,'Loan_Status',data=data_plot,ax=axs[counter])\n",
    "#     axs[counter].set_ylabel(\"Percentage of Approval\")\n",
    "#     axs[counter].set_xticklabels(data_plot.index,rotation=90)\n",
    "#     counter+=1   \n",
    "\n",
    "\n",
    "#     # print(bins) #debugging\n",
    "\n",
    "#     axs[counter].set_title(i)\n",
    "#     # axs[counter].hist(train[i],bins=bins)\n",
    "#     sns.distplot(train[i],bins=bins,ax=axs[counter],kde=False)\n",
    "#     axs[counter].set_ylabel(\"Distribution at Each Label\")\n",
    "#     # axs[counter].set_xlabel(bins,rotation=90)\n",
    "#     counter+=1"
   ]
  },
  {
   "cell_type": "markdown",
   "metadata": {},
   "source": [
    "#### Insights \n",
    "\n",
    "1. __Applicant Income__ : slight\n",
    "1. __Co-applicant Income__ : slight\n",
    "1. __Family Size__ : Not Significant\n",
    "1. __Income Per Member__ : slight\n",
    "1. __Loan Amount__ : slight\n",
    "1. __Loan Amount Term__ : slight\n",
    "1. __Monthly Installment__ : Not Significant\n",
    "1. __Total Income__ :  slight\n"
   ]
  },
  {
   "cell_type": "markdown",
   "metadata": {},
   "source": [
    "### Checking Significant Variables"
   ]
  },
  {
   "cell_type": "code",
   "execution_count": null,
   "metadata": {},
   "outputs": [],
   "source": [
    "# i='TotalIncome'\n",
    "# data_pivot = train[['Loan_Status']]\n",
    "# data_pivot[i] = pd.qcut(train[i],q=20)\n",
    "# data_plot = pd.pivot_table(data_pivot,'Loan_Status',i,aggfunc=['mean','count'])\n",
    "# print(data_plot)"
   ]
  },
  {
   "cell_type": "code",
   "execution_count": null,
   "metadata": {},
   "outputs": [],
   "source": [
    "# i='CoapplicantIncome'\n",
    "# data_pivot = train[['Loan_Status']]\n",
    "# data_pivot[i] = pd.qcut(train[i],q=20,duplicates='drop')\n",
    "# data_plot = pd.pivot_table(data_pivot,'Loan_Status',i,aggfunc=['mean','count'])\n",
    "# print(data_plot)"
   ]
  },
  {
   "cell_type": "code",
   "execution_count": null,
   "metadata": {},
   "outputs": [],
   "source": [
    "# i='IncomePerMember'\n",
    "# data_pivot = train[['Loan_Status']]\n",
    "# data_pivot[i] = pd.qcut(train[i],q=20,duplicates='drop')\n",
    "# data_plot = pd.pivot_table(data_pivot,'Loan_Status',i,aggfunc=['mean','count'])\n",
    "# print(data_plot)"
   ]
  },
  {
   "cell_type": "code",
   "execution_count": null,
   "metadata": {},
   "outputs": [],
   "source": [
    "# i='LoanAmount'\n",
    "# data_pivot = train[['Loan_Status']]\n",
    "# data_pivot[i] = pd.qcut(train[i],q=20,duplicates='drop')\n",
    "# data_plot = pd.pivot_table(data_pivot,'Loan_Status',i,aggfunc=['mean','count'])\n",
    "# print(data_plot)"
   ]
  },
  {
   "cell_type": "code",
   "execution_count": null,
   "metadata": {},
   "outputs": [],
   "source": [
    "# i='Loan_Amount_Term'\n",
    "# data_pivot = train[['Loan_Status']]\n",
    "# data_pivot[i] = pd.qcut(train[i],q=20,duplicates='drop')\n",
    "# data_plot = pd.pivot_table(data_pivot,'Loan_Status',i,aggfunc=['mean','count'])\n",
    "# print(data_plot)"
   ]
  },
  {
   "cell_type": "code",
   "execution_count": null,
   "metadata": {},
   "outputs": [],
   "source": [
    "# i='TotalIncome'\n",
    "# data_pivot = train[['Loan_Status']]\n",
    "# data_pivot[i] = pd.qcut(train[i],q=20,duplicates='drop')\n",
    "# data_plot = pd.pivot_table(data_pivot,'Loan_Status',i,aggfunc=['mean','count'])\n",
    "# print(data_plot)"
   ]
  },
  {
   "cell_type": "markdown",
   "metadata": {},
   "source": [
    "### Categorical"
   ]
  },
  {
   "cell_type": "code",
   "execution_count": null,
   "metadata": {},
   "outputs": [],
   "source": [
    "# cat_var = ['Gender', 'Married', 'Dependents', 'Education',\n",
    "#        'Self_Employed', 'Property_Area', 'BothEarn', 'IncomeStrength','Credit_History']"
   ]
  },
  {
   "cell_type": "code",
   "execution_count": null,
   "metadata": {},
   "outputs": [],
   "source": [
    "# fig, axs = plt.subplots(9,2,figsize=(30,100))\n",
    "# fig.subplots_adjust(hspace = .5, wspace=.5)\n",
    "# axs = axs.ravel()\n",
    "# counter=0\n",
    "\n",
    "# for i in cat_var:\n",
    "    \n",
    "#     data_pivot = train[[i,'Loan_Status']]\n",
    "#     data_plot = pd.pivot_table(data_pivot,'Loan_Status',i)\n",
    "# #     print(data_plot)\n",
    "    \n",
    "#     axs[counter].set_title(i)\n",
    "#     sns.barplot(data_plot.index,'Loan_Status',data=data_plot,ax=axs[counter])\n",
    "#     axs[counter].set_ylabel(\"Percentage of Approval\")\n",
    "#     axs[counter].set_xticklabels(data_plot.index,rotation=90)\n",
    "#     counter+=1   \n",
    "\n",
    "\n",
    "#     # print(bins) #debugging\n",
    "\n",
    "#     axs[counter].set_title(i)\n",
    "#     axs[counter].hist(train[i])\n",
    "#     # sns.distplot(train[i],ax=axs[counter],kde=False)\n",
    "#     axs[counter].set_ylabel(\"Distribution at Each Label\")\n",
    "#     # axs[counter].set_xlabel(bins,rotation=90)\n",
    "#     counter+=1"
   ]
  },
  {
   "cell_type": "markdown",
   "metadata": {},
   "source": [
    "## END EDA"
   ]
  },
  {
   "cell_type": "markdown",
   "metadata": {},
   "source": [
    "### Data Selection"
   ]
  },
  {
   "cell_type": "code",
   "execution_count": null,
   "metadata": {},
   "outputs": [],
   "source": [
    "# #binning is done as values observed from Graph\n",
    "# temp = pd.DataFrame()\n",
    "\n",
    "# temp['Loan_Amount_Term']=pd.cut(train['Loan_Amount_Term'],bins=[0,360,500])\n",
    "\n",
    "# temp['ApplicantIncome'] = pd.cut(train['ApplicantIncome'],bins=[0,210,63337,81000])\n",
    "\n",
    "# temp['CoapplicantIncome'] = pd.cut(train['CoapplicantIncome'],bins=[0,20000,42000])\n",
    "\n",
    "# temp['IncomePerMember'] = pd.cut(train['IncomePerMember'],bins=[0,950,10000,36000])\n",
    "\n",
    "# temp['LoanAmount'] = pd.cut(train['LoanAmount'], bins=[0,57,87,188,700])"
   ]
  },
  {
   "cell_type": "code",
   "execution_count": null,
   "metadata": {},
   "outputs": [],
   "source": [
    "#binning is done as values observed from Graph\n",
    "temp = pd.DataFrame()\n",
    "\n",
    "temp['Loan_Amount_Term']=(train['Loan_Amount_Term'])\n",
    "temp['ApplicantIncome'] =(train['ApplicantIncome'])\n",
    "temp['CoapplicantIncome'] =(train['CoapplicantIncome'])\n",
    "temp['IncomePerMember'] =(train['IncomePerMember'])\n",
    "temp['LoanAmount'] =(train['LoanAmount'])"
   ]
  },
  {
   "cell_type": "code",
   "execution_count": null,
   "metadata": {},
   "outputs": [],
   "source": [
    "cat_cols =['Credit_History','Married','Education','Property_Area']"
   ]
  },
  {
   "cell_type": "code",
   "execution_count": null,
   "metadata": {},
   "outputs": [],
   "source": [
    "# cont_cols =['TotalIncome','Loan_Amount_Term','ApplicantIncome','CoapplicantIncome','IncomePerMember','LoanAmount']"
   ]
  },
  {
   "cell_type": "code",
   "execution_count": null,
   "metadata": {},
   "outputs": [],
   "source": [
    "temp = pd.concat([temp,train[cat_cols]],axis=1)"
   ]
  },
  {
   "cell_type": "code",
   "execution_count": null,
   "metadata": {},
   "outputs": [],
   "source": [
    "# cat_cols = temp.columns[(temp.dtypes == 'object') | (temp.dtypes == 'category')]\n",
    "# cont_cols = temp.columns[(temp.dtypes != 'object') & (temp.dtypes != 'category')]"
   ]
  },
  {
   "cell_type": "markdown",
   "metadata": {},
   "source": [
    "## Test Train Split"
   ]
  },
  {
   "cell_type": "code",
   "execution_count": null,
   "metadata": {},
   "outputs": [],
   "source": [
    "from sklearn.preprocessing import StandardScaler\n",
    "sc = StandardScaler()\n",
    "\n",
    "temp = pd.get_dummies(temp)\n",
    "X = pd.DataFrame(sc.fit_transform(temp),columns=temp.columns)\n",
    "# X = pd.get_dummies(temp)\n",
    "y = train.Loan_Status\n"
   ]
  },
  {
   "cell_type": "code",
   "execution_count": null,
   "metadata": {},
   "outputs": [],
   "source": [
    "from sklearn.model_selection import train_test_split\n",
    "\n",
    "X_train, X_test, y_train, y_test = train_test_split(X, y, test_size=0.10, random_state=100)"
   ]
  },
  {
   "cell_type": "markdown",
   "metadata": {},
   "source": [
    "### SMOTE"
   ]
  },
  {
   "cell_type": "code",
   "execution_count": null,
   "metadata": {},
   "outputs": [],
   "source": [
    "from imblearn.over_sampling import SMOTE"
   ]
  },
  {
   "cell_type": "code",
   "execution_count": null,
   "metadata": {},
   "outputs": [],
   "source": [
    "oversample = SMOTE()\n",
    "X_train,y_train = oversample.fit_resample(X_train,y_train)"
   ]
  },
  {
   "cell_type": "markdown",
   "metadata": {},
   "source": [
    "## Model Development"
   ]
  },
  {
   "cell_type": "code",
   "execution_count": null,
   "metadata": {},
   "outputs": [],
   "source": [
    "from sklearn import metrics"
   ]
  },
  {
   "cell_type": "markdown",
   "metadata": {},
   "source": [
    "#### RandomForest"
   ]
  },
  {
   "cell_type": "code",
   "execution_count": null,
   "metadata": {},
   "outputs": [],
   "source": [
    "from sklearn.ensemble import RandomForestClassifier\n",
    "\n",
    "rf = RandomForestClassifier()\n",
    "rf.fit(X_train,y_train)\n",
    "\n",
    "y_hat = rf.predict(X_test)\n",
    "\n",
    "rf.score(X_test,y_test)"
   ]
  },
  {
   "cell_type": "markdown",
   "metadata": {},
   "source": [
    "#### LGBM"
   ]
  },
  {
   "cell_type": "code",
   "execution_count": null,
   "metadata": {},
   "outputs": [],
   "source": [
    "# from lightgbm import LGBMClassifier\n",
    "\n",
    "# LGBM = LGBMClassifier()\n",
    "# LGBM.fit(X_train, y_train)\n",
    "\n",
    "# yhat = LGBM.predict(X_test)\n",
    "\n",
    "# print(metrics.accuracy_score(y_test, yhat))"
   ]
  },
  {
   "cell_type": "markdown",
   "metadata": {},
   "source": [
    "#### Decision Tree"
   ]
  },
  {
   "cell_type": "code",
   "execution_count": null,
   "metadata": {},
   "outputs": [],
   "source": [
    "from sklearn.tree import DecisionTreeClassifier\n",
    "\n",
    "model = DecisionTreeClassifier()\n",
    "model.fit(X_train,y_train)\n",
    "\n",
    "yhat = model.predict(X_test)\n",
    "\n",
    "print(metrics.accuracy_score(y_test, yhat))"
   ]
  },
  {
   "cell_type": "code",
   "execution_count": null,
   "metadata": {},
   "outputs": [],
   "source": [
    "from sklearn.linear_model import LogisticRegression\n",
    "\n",
    "lor = LogisticRegression()\n",
    "lor.fit(X_train,y_train)\n",
    "\n",
    "yhat = lor.predict(X_test)\n",
    "\n",
    "print(metrics.accuracy_score(y_test, yhat))"
   ]
  },
  {
   "cell_type": "markdown",
   "metadata": {},
   "source": [
    "#### Kmeans"
   ]
  },
  {
   "cell_type": "code",
   "execution_count": null,
   "metadata": {},
   "outputs": [],
   "source": [
    "from sklearn.neighbors import KNeighborsClassifier\n",
    "Ks = 1 #Kstart\n",
    "Ke = 15 #Kstop\n",
    "mean_acc = np.zeros((Ke-Ks+1))\n",
    "\n",
    "for n in range(Ks,Ke+1):\n",
    "      \n",
    "    KNN = KNeighborsClassifier(n_neighbors = n).fit(X_train,y_train)\n",
    "    yhat=KNN.predict(X_test)\n",
    "    mean_acc[n-1] = metrics.accuracy_score(y_test, yhat)\n",
    "\n",
    "mean_acc"
   ]
  },
  {
   "cell_type": "code",
   "execution_count": null,
   "metadata": {},
   "outputs": [],
   "source": [
    "KNN = KNeighborsClassifier(n_neighbors = 4).fit(X_train,y_train)\n",
    "yhat=KNN.predict(X_test)\n",
    "metrics.accuracy_score(y_test, yhat)"
   ]
  },
  {
   "cell_type": "markdown",
   "metadata": {},
   "source": [
    "# Prediction"
   ]
  },
  {
   "cell_type": "markdown",
   "metadata": {},
   "source": [
    "### Test Data Treatment"
   ]
  },
  {
   "cell_type": "code",
   "execution_count": null,
   "metadata": {},
   "outputs": [],
   "source": [
    "test.isnull().sum()"
   ]
  },
  {
   "cell_type": "markdown",
   "metadata": {},
   "source": [
    "Treating Missing Data "
   ]
  },
  {
   "cell_type": "code",
   "execution_count": null,
   "metadata": {},
   "outputs": [],
   "source": [
    "test['Dependents'].fillna('0',inplace=True)\n",
    "\n",
    "test['Gender'].fillna('Unknown',inplace=True)\n",
    "test['Married'].fillna('Unknown',inplace=True)\n",
    "test['Self_Employed'].fillna('Unknown',inplace=True)\n",
    "test['Credit_History'].fillna(99,inplace=True)\n",
    "\n",
    "test['Loan_Amount_Term'].fillna(test['Loan_Amount_Term'].median(skipna=True),inplace=True)\n",
    "test['LoanAmount'].fillna(test['LoanAmount'].median(skipna=True),inplace=True)"
   ]
  },
  {
   "cell_type": "markdown",
   "metadata": {},
   "source": [
    "### Feature Engineering "
   ]
  },
  {
   "cell_type": "code",
   "execution_count": null,
   "metadata": {},
   "outputs": [],
   "source": [
    "#If Co-Applicant Earns. Both Members Earn\n",
    "\n",
    "test['BothEarn'] = (test.CoapplicantIncome!=0).astype('int') \n",
    "test['BothEarn'] = test['BothEarn'].map({1:'Yes',0:'No'})\n",
    "\n",
    "#Total Family Income\n",
    "\n",
    "test['TotalIncome'] = test['ApplicantIncome']+test['CoapplicantIncome']\n",
    "\n",
    "#Family Size\n",
    "\n",
    "c=0 #counter\n",
    "fam = test['Dependents'].copy()\n",
    "\n",
    "for i in test['BothEarn']:\n",
    "    if test.loc[c,'Married']=='Yes':\n",
    "        fam.loc[c] = '2+'+fam.loc[c]\n",
    "    else :\n",
    "        fam.loc[c] = '1+'+fam.loc[c]\n",
    "    c+=1\n",
    "\n",
    "# fam = \"2+\"+test['Dependents']\n",
    "test['FamilySize'] = fam.apply(lambda x: eval(x[:-1]) if x[-1]=='+' else eval(x))\n",
    "\n",
    "#Income per person in family\n",
    "\n",
    "test['IncomePerMember'] = test['TotalIncome']/test['FamilySize']\n",
    "\n",
    "#Income Strength Binning\n",
    "\n",
    "bins = np.linspace(test['IncomePerMember'].min(),test['IncomePerMember'].max(),25,True)\n",
    "bins = np.append(bins[0:4],test['IncomePerMember'].max())\n",
    "\n",
    "test['IncomeStrength'] = pd.cut(test['IncomePerMember'],bins=bins,labels=['low','Med','High','V. High'],include_lowest=True)\n",
    "\n",
    "\n",
    "#Monthly Installment (without interest - Just to estimate)\n",
    "\n",
    "test['MonthlyInstal'] = test['LoanAmount']/test['Loan_Amount_Term']"
   ]
  },
  {
   "cell_type": "code",
   "execution_count": null,
   "metadata": {},
   "outputs": [],
   "source": [
    "#binning is done as values observed from Graph\n",
    "temp_test = pd.DataFrame()\n",
    "\n",
    "temp_test['Loan_Amount_Term']=pd.cut(test['Loan_Amount_Term'],bins=[0,360,500])\n",
    "\n",
    "temp_test['ApplicantIncome'] = pd.cut(test['ApplicantIncome'],bins=[0,210,63337,81000])\n",
    "\n",
    "temp_test['CoapplicantIncome'] = pd.cut(test['CoapplicantIncome'],bins=[0,20000,42000])\n",
    "\n",
    "temp_test['IncomePerMember'] = pd.cut(test['IncomePerMember'],bins=[0,950,10000,36000])\n",
    "\n",
    "temp_test['LoanAmount'] = pd.cut(test['LoanAmount'], bins=[0,57,87,188,700])"
   ]
  },
  {
   "cell_type": "code",
   "execution_count": null,
   "metadata": {},
   "outputs": [],
   "source": [
    "cat_cols =['Credit_History','Married','Education','Property_Area']"
   ]
  },
  {
   "cell_type": "code",
   "execution_count": null,
   "metadata": {},
   "outputs": [],
   "source": [
    "temp_test = pd.concat([temp_test,test[cat_cols]],axis=1)"
   ]
  },
  {
   "cell_type": "code",
   "execution_count": null,
   "metadata": {},
   "outputs": [],
   "source": [
    "temp_test = pd.get_dummies(temp_test)\n",
    "temp_test = pd.DataFrame(sc.fit_transform(temp_test),columns=temp_test.columns)"
   ]
  },
  {
   "cell_type": "code",
   "execution_count": null,
   "metadata": {},
   "outputs": [],
   "source": [
    "y_hat = KNN.predict(temp_test)"
   ]
  },
  {
   "cell_type": "code",
   "execution_count": null,
   "metadata": {},
   "outputs": [],
   "source": [
    "sol=pd.DataFrame()\n",
    "sol['Loan_Status']=y_hat\n",
    "sol['Loan_ID']=test['Loan_ID']\n",
    "sol.set_index('Loan_ID',inplace=True)\n",
    "sol['Loan_Status'] = sol['Loan_Status'].map({1:'Y',0:'N'})"
   ]
  },
  {
   "cell_type": "code",
   "execution_count": null,
   "metadata": {},
   "outputs": [],
   "source": [
    "sol.to_csv('Submission_KNN.csv')"
   ]
  },
  {
   "cell_type": "code",
   "execution_count": null,
   "metadata": {},
   "outputs": [],
   "source": []
  }
 ],
 "metadata": {
  "kernelspec": {
   "display_name": "Python 3",
   "language": "python",
   "name": "python3"
  },
  "language_info": {
   "codemirror_mode": {
    "name": "ipython",
    "version": 3
   },
   "file_extension": ".py",
   "mimetype": "text/x-python",
   "name": "python",
   "nbconvert_exporter": "python",
   "pygments_lexer": "ipython3",
   "version": "3.7.6"
  }
 },
 "nbformat": 4,
 "nbformat_minor": 4
}
